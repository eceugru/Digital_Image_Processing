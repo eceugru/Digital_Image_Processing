{
  "nbformat": 4,
  "nbformat_minor": 0,
  "metadata": {
    "colab": {
      "private_outputs": true,
      "provenance": [],
      "authorship_tag": "ABX9TyN3kZIT88J98ch4A5tLdIJE",
      "include_colab_link": true
    },
    "kernelspec": {
      "name": "python3",
      "display_name": "Python 3"
    },
    "language_info": {
      "name": "python"
    }
  },
  "cells": [
    {
      "cell_type": "markdown",
      "metadata": {
        "id": "view-in-github",
        "colab_type": "text"
      },
      "source": [
        "<a href=\"https://colab.research.google.com/github/eceugru/Digital_Image_Processing/blob/main/DIP1.ipynb\" target=\"_parent\"><img src=\"https://colab.research.google.com/assets/colab-badge.svg\" alt=\"Open In Colab\"/></a>"
      ]
    },
    {
      "cell_type": "code",
      "execution_count": null,
      "metadata": {
        "id": "DwWngBUJaUuA"
      },
      "outputs": [],
      "source": [
        "import numpy as np\n",
        "from PIL import Image\n",
        "import matplotlib.pyplot as plt"
      ]
    },
    {
      "cell_type": "code",
      "source": [
        "image_path1 = \"/content/indir.jpeg\"\n",
        "image = Image.open(image_path1)\n",
        "image_matrix = np.array(image)\n",
        "image_vectors = image_matrix.flatten()"
      ],
      "metadata": {
        "id": "bylD5SQWardz"
      },
      "execution_count": null,
      "outputs": []
    },
    {
      "cell_type": "code",
      "source": [
        "print(\"Matris boyutları: \", image_matrix.shape)\n",
        "print(\"Vektör Boyutu: \", image_vectors.shape)\n",
        "print(\"Vektörün ilk 10 elemaı: \", image_vectors[:10])"
      ],
      "metadata": {
        "id": "uKpwLeFbbljd"
      },
      "execution_count": null,
      "outputs": []
    },
    {
      "cell_type": "code",
      "source": [
        "plt.imshow(image_matrix)\n",
        "plt.title('Orijinal Görüntü')\n",
        "plt.axis('off')\n",
        "plt.show()"
      ],
      "metadata": {
        "id": "RwWeKpdScHm5"
      },
      "execution_count": null,
      "outputs": []
    },
    {
      "cell_type": "code",
      "source": [
        "weights = [0.2989, 0.5870, 0.1140]\n",
        "\n",
        "gray_image= np.dot(image_matrix[..., :3], weights)\n",
        "\n",
        "plt.imshow(gray_image, cmap='gray')\n",
        "plt.title('Siyah beyaz görüntü ')\n",
        "plt.axis('off')\n",
        "plt.show()"
      ],
      "metadata": {
        "id": "O-c5jCBZchtA"
      },
      "execution_count": null,
      "outputs": []
    }
  ]
}